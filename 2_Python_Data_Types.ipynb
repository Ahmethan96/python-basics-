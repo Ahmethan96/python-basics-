{
  "nbformat": 4,
  "nbformat_minor": 0,
  "metadata": {
    "colab": {
      "provenance": [],
      "authorship_tag": "ABX9TyNgZVaU7b4Y7DG3jw2Aijbo",
      "include_colab_link": true
    },
    "kernelspec": {
      "name": "python3",
      "display_name": "Python 3"
    },
    "language_info": {
      "name": "python"
    }
  },
  "cells": [
    {
      "cell_type": "markdown",
      "metadata": {
        "id": "view-in-github",
        "colab_type": "text"
      },
      "source": [
        "<a href=\"https://colab.research.google.com/github/Ahmethan96/python-tutorial/blob/main/2_Python_Data_Types.ipynb\" target=\"_parent\"><img src=\"https://colab.research.google.com/assets/colab-badge.svg\" alt=\"Open In Colab\"/></a>"
      ]
    },
    {
      "cell_type": "markdown",
      "source": [
        "### **2. Python Data Types** ###\n",
        "### **2. Python Veri Türleri** ###"
      ],
      "metadata": {
        "id": "Yb2QdCxSTkXJ"
      }
    },
    {
      "cell_type": "markdown",
      "source": [
        "**2.1.1 Values and Data Types**\n",
        "\n",
        "**2.1.1 Değerler ve Veri Türleri**\n"
      ],
      "metadata": {
        "id": "ItItHKj8UBWA"
      }
    },
    {
      "cell_type": "code",
      "source": [
        "print(type(\"Hello, World!\"))\n",
        "print(type(17))\n",
        "print(\"Hello, World\")"
      ],
      "metadata": {
        "colab": {
          "base_uri": "https://localhost:8080/"
        },
        "id": "j0RnKws9UZIL",
        "outputId": "c0a8d939-d5ed-4031-f0d7-41277d4c4fb5"
      },
      "execution_count": null,
      "outputs": [
        {
          "output_type": "stream",
          "name": "stdout",
          "text": [
            "<class 'str'>\n",
            "<class 'int'>\n",
            "Hello, World\n"
          ]
        }
      ]
    },
    {
      "cell_type": "code",
      "source": [
        "print(type(3.2))"
      ],
      "metadata": {
        "colab": {
          "base_uri": "https://localhost:8080/"
        },
        "id": "BnupMWwXW9DA",
        "outputId": "5063153b-9d18-4de3-f947-b43e8fe0284e"
      },
      "execution_count": null,
      "outputs": [
        {
          "output_type": "stream",
          "name": "stdout",
          "text": [
            "<class 'float'>\n"
          ]
        }
      ]
    },
    {
      "cell_type": "markdown",
      "source": [
        "**2.1.2 Type Conversion Functions**\n",
        "\n",
        "**2.1.2 Tip Dönüştürme**"
      ],
      "metadata": {
        "id": "kW2JtMTGXA5K"
      }
    },
    {
      "cell_type": "code",
      "source": [
        "print(3.14, int(3.14))\n",
        "print(3.9999, int(3.9999))       # This doesn't round to the closest int!\n",
        "print(3.0, int(3.0))\n",
        "print(-3.999, int(-3.999))        # Note that the result is closer to zero\n",
        "\n",
        "#print(int(\"23bottles\"))"
      ],
      "metadata": {
        "colab": {
          "base_uri": "https://localhost:8080/"
        },
        "id": "Iia45foiU3p8",
        "outputId": "f3b755f3-679a-483a-8e8c-39f5c293dffb"
      },
      "execution_count": null,
      "outputs": [
        {
          "output_type": "stream",
          "name": "stdout",
          "text": [
            "3.14 3\n",
            "3.9999 3\n",
            "3.0 3\n",
            "-3.999 -3\n"
          ]
        }
      ]
    },
    {
      "cell_type": "markdown",
      "source": [
        "**2.1.3 Variables**\n",
        "\n",
        "**2.1.3 Değişkenler**"
      ],
      "metadata": {
        "id": "wMmdT_12beOT"
      }
    },
    {
      "cell_type": "code",
      "source": [
        "message = \"What's up, Doc?\"\n",
        "n = 17\n",
        "pi = 3.14159\n",
        "\n",
        "print(message)\n",
        "print(n)\n",
        "print(pi)"
      ],
      "metadata": {
        "colab": {
          "base_uri": "https://localhost:8080/"
        },
        "id": "QaBi756DVmTx",
        "outputId": "47571393-bb8c-402c-d0c4-2c28c2170f3d"
      },
      "execution_count": null,
      "outputs": [
        {
          "output_type": "stream",
          "name": "stdout",
          "text": [
            "What's up, Doc?\n",
            "17\n",
            "3.14159\n"
          ]
        }
      ]
    },
    {
      "cell_type": "code",
      "source": [
        "76trombones = \"big parade\"\n",
        "more$ = 1000000\n",
        "class = \"Computer Science 101"
      ],
      "metadata": {
        "colab": {
          "base_uri": "https://localhost:8080/",
          "height": 134
        },
        "id": "PJ96UA_AdAY3",
        "outputId": "cb2e5529-424d-447a-98e2-79c0621b2b75"
      },
      "execution_count": null,
      "outputs": [
        {
          "output_type": "error",
          "ename": "SyntaxError",
          "evalue": "ignored",
          "traceback": [
            "\u001b[0;36m  File \u001b[0;32m\"<ipython-input-10-720eb77662c7>\"\u001b[0;36m, line \u001b[0;32m1\u001b[0m\n\u001b[0;31m    76trombones = \"big parade\"\u001b[0m\n\u001b[0m     ^\u001b[0m\n\u001b[0;31mSyntaxError\u001b[0m\u001b[0;31m:\u001b[0m invalid decimal literal\n"
          ]
        }
      ]
    },
    {
      "cell_type": "markdown",
      "source": [
        "**2.2.1 Statements and Expressions**\n",
        "\n",
        "**2.2.1 İfadeler ve Tabirler**"
      ],
      "metadata": {
        "id": "L-Wldkcwhm94"
      }
    },
    {
      "cell_type": "code",
      "source": [
        "print(1 + 1) # Statment/İfade\n",
        "print(len(\"hello\"))"
      ],
      "metadata": {
        "colab": {
          "base_uri": "https://localhost:8080/"
        },
        "id": "K7NbxY6ndQzu",
        "outputId": "a9feda8d-9476-4992-fc40-202144e2a99b"
      },
      "execution_count": null,
      "outputs": [
        {
          "output_type": "stream",
          "name": "stdout",
          "text": [
            "2\n",
            "5\n"
          ]
        }
      ]
    },
    {
      "cell_type": "code",
      "source": [
        "y = 3.14 # Expression/Tabir\n",
        "x = len(\"hello\")\n",
        "print(x)\n",
        "print(y)"
      ],
      "metadata": {
        "colab": {
          "base_uri": "https://localhost:8080/"
        },
        "id": "WZubU7KqjHsh",
        "outputId": "f2b69a52-eb61-4cb0-b2bf-ea822f9fa8aa"
      },
      "execution_count": null,
      "outputs": [
        {
          "output_type": "stream",
          "name": "stdout",
          "text": [
            "5\n",
            "3.14\n"
          ]
        }
      ]
    },
    {
      "cell_type": "markdown",
      "source": [
        "**2.2.2 Operators**\n",
        "\n",
        "**2.2.2 Operatörler**"
      ],
      "metadata": {
        "id": "QWbZtH6YlB1A"
      }
    },
    {
      "cell_type": "code",
      "source": [
        "print(2 + 3)\n",
        "print(2 - 3)\n",
        "print(2 * 3)\n",
        "print(2 ** 3)\n",
        "print(3 ** 2)\n"
      ],
      "metadata": {
        "colab": {
          "base_uri": "https://localhost:8080/"
        },
        "id": "aGnkZ1VXjWd6",
        "outputId": "d534ac73-2e05-4e73-b5d7-499445cc1625"
      },
      "execution_count": null,
      "outputs": [
        {
          "output_type": "stream",
          "name": "stdout",
          "text": [
            "5\n",
            "-1\n",
            "6\n",
            "8\n",
            "9\n"
          ]
        }
      ]
    },
    {
      "cell_type": "markdown",
      "source": [
        "645 dakikayı saat cinsine çevirmek isterseniz, Python 3'te bölme işlemi / operatörü kullanılır ve sonuç her zaman ondalık bir sayıdır.\n",
        "\n",
        "İşte dönüşümü gerçekleştirmek için kullanabileceğiniz örnek kod:"
      ],
      "metadata": {
        "id": "5KERSVGul0wa"
      }
    },
    {
      "cell_type": "code",
      "source": [
        "minutes = 645\n",
        "hours = minutes / 60\n",
        "print(hours)"
      ],
      "metadata": {
        "colab": {
          "base_uri": "https://localhost:8080/"
        },
        "id": "hsAXoq_5l2QN",
        "outputId": "6538edab-8aea-4890-a3fa-c9a826f1e7ba"
      },
      "execution_count": null,
      "outputs": [
        {
          "output_type": "stream",
          "name": "stdout",
          "text": [
            "10.75\n"
          ]
        }
      ]
    },
    {
      "cell_type": "markdown",
      "source": [
        "**3.1.1 Lists**\n",
        "\n",
        "**3.1.1 Listeler**"
      ],
      "metadata": {
        "id": "mr9zQNGezMSa"
      }
    },
    {
      "cell_type": "code",
      "source": [
        "# list values\n",
        "vocabulary = [\"iteration\", \"selection\", \"control\"]\n",
        "numbers = [17, 123]\n",
        "empty = []\n",
        "mixedlist = [\"hello\", 2.0, 5*2, [10, 20]]\n",
        "\n",
        "print(numbers)\n",
        "print(mixedlist)\n",
        "newlist = [ numbers, vocabulary ]\n",
        "print(newlist)"
      ],
      "metadata": {
        "id": "qzfy9v8fljH4",
        "colab": {
          "base_uri": "https://localhost:8080/"
        },
        "outputId": "5b23d843-d1a4-49e6-bfa4-5abc0f9cca0f"
      },
      "execution_count": 1,
      "outputs": [
        {
          "output_type": "stream",
          "name": "stdout",
          "text": [
            "[17, 123]\n",
            "['hello', 2.0, 10, [10, 20]]\n",
            "[[17, 123], ['iteration', 'selection', 'control']]\n"
          ]
        }
      ]
    },
    {
      "cell_type": "code",
      "source": [
        "# list length\n",
        "alist =  [\"hello\", 2.0, 5, [10, 20]]\n",
        "print(len(alist))\n",
        "print(len(['spam!', 1, ['Brie', 'Roquefort', 'Pol le Veq'], [1, 2, 3]]))"
      ],
      "metadata": {
        "colab": {
          "base_uri": "https://localhost:8080/"
        },
        "id": "he1BZw8Ozdt1",
        "outputId": "b203b87c-7962-41fd-ff20-4ac70d7b9394"
      },
      "execution_count": 2,
      "outputs": [
        {
          "output_type": "stream",
          "name": "stdout",
          "text": [
            "4\n",
            "4\n"
          ]
        }
      ]
    },
    {
      "cell_type": "code",
      "source": [
        "# accessing elements\n",
        "numbers = [17, 123, 87, 34, 66, 8398, 44]\n",
        "print(numbers[2])\n",
        "print(numbers[9 - 8])\n",
        "print(numbers[-2])\n",
        "print(numbers[len(numbers) - 1])"
      ],
      "metadata": {
        "colab": {
          "base_uri": "https://localhost:8080/"
        },
        "id": "TEl-K4gB00FP",
        "outputId": "fe35bca4-65aa-4894-b5b6-956acc7bdbbe"
      },
      "execution_count": 3,
      "outputs": [
        {
          "output_type": "stream",
          "name": "stdout",
          "text": [
            "87\n",
            "123\n",
            "8398\n",
            "44\n"
          ]
        }
      ]
    },
    {
      "cell_type": "code",
      "source": [
        "# list memebership\n",
        "fruit = [\"apple\", \"orange\", \"banana\", \"cherry\"]\n",
        "\n",
        "print(\"apple\" in fruit)\n",
        "print(\"pear\" in fruit)"
      ],
      "metadata": {
        "colab": {
          "base_uri": "https://localhost:8080/"
        },
        "id": "8xx5O-yQ1TVg",
        "outputId": "9a67c77b-56fd-401d-8e5f-5809b7053c04"
      },
      "execution_count": 4,
      "outputs": [
        {
          "output_type": "stream",
          "name": "stdout",
          "text": [
            "True\n",
            "False\n"
          ]
        }
      ]
    },
    {
      "cell_type": "code",
      "source": [
        "# concatnation and repetition\n",
        "fruit = [\"apple\", \"orange\", \"banana\", \"cherry\"]\n",
        "print([1, 2] + [3, 4])\n",
        "print(fruit + [6, 7, 8, 9])\n",
        "\n",
        "print([0] * 4)\n",
        "print([1, 2, [\"hello\", \"goodbye\"]] * 2)\n"
      ],
      "metadata": {
        "colab": {
          "base_uri": "https://localhost:8080/"
        },
        "id": "yqBRr8aW1kPy",
        "outputId": "1d292d61-a0aa-4fb5-9dd1-511bfbd0534f"
      },
      "execution_count": 5,
      "outputs": [
        {
          "output_type": "stream",
          "name": "stdout",
          "text": [
            "[1, 2, 3, 4]\n",
            "['apple', 'orange', 'banana', 'cherry', 6, 7, 8, 9]\n",
            "[0, 0, 0, 0]\n",
            "[1, 2, ['hello', 'goodbye'], 1, 2, ['hello', 'goodbye']]\n"
          ]
        }
      ]
    },
    {
      "cell_type": "code",
      "source": [
        "# list sclices\n",
        "a_list = ['a', 'b', 'c', 'd', 'e', 'f']\n",
        "print(a_list[1:3])\n",
        "print(a_list[:4])\n",
        "print(a_list[3:])\n",
        "print(a_list[:])\n"
      ],
      "metadata": {
        "colab": {
          "base_uri": "https://localhost:8080/"
        },
        "id": "rzyNIacg13fl",
        "outputId": "2394427c-c9d1-4820-c4eb-11af6767836d"
      },
      "execution_count": 6,
      "outputs": [
        {
          "output_type": "stream",
          "name": "stdout",
          "text": [
            "['b', 'c']\n",
            "['a', 'b', 'c', 'd']\n",
            "['d', 'e', 'f']\n",
            "['a', 'b', 'c', 'd', 'e', 'f']\n"
          ]
        }
      ]
    },
    {
      "cell_type": "code",
      "source": [
        "# lists are mutable\n",
        "fruit = [\"banana\", \"apple\", \"cherry\"]\n",
        "print(fruit)\n",
        "\n",
        "fruit[0] = \"pear\"\n",
        "fruit[-1] = \"orange\"\n",
        "print(fruit)\n"
      ],
      "metadata": {
        "colab": {
          "base_uri": "https://localhost:8080/"
        },
        "id": "Xs3W8FOx2sMF",
        "outputId": "dd2f5031-958a-4459-9871-1f2ec2cb6529"
      },
      "execution_count": 7,
      "outputs": [
        {
          "output_type": "stream",
          "name": "stdout",
          "text": [
            "['banana', 'apple', 'cherry']\n",
            "['pear', 'apple', 'orange']\n"
          ]
        }
      ]
    },
    {
      "cell_type": "code",
      "source": [
        "# list delection\n",
        "a = ['one', 'two', 'three']\n",
        "del a[1]\n",
        "print(a)\n",
        "\n",
        "alist = ['a', 'b', 'c', 'd', 'e', 'f']\n",
        "del alist[1:5]\n",
        "print(alist)"
      ],
      "metadata": {
        "colab": {
          "base_uri": "https://localhost:8080/"
        },
        "id": "asB1k17y2wVY",
        "outputId": "f38bba6d-16dc-481c-873f-6c22705073be"
      },
      "execution_count": 1,
      "outputs": [
        {
          "output_type": "stream",
          "name": "stdout",
          "text": [
            "['one', 'three']\n",
            "['a', 'f']\n"
          ]
        }
      ]
    },
    {
      "cell_type": "code",
      "source": [
        "# list methods\n",
        "mylist = []\n",
        "mylist.append(5)\n",
        "mylist.append(27)\n",
        "mylist.append(3)\n",
        "mylist.append(12)\n",
        "print(mylist)\n",
        "\n",
        "mylist.insert(1, 12)        # Insert 12 at pos 1, shift other items up\n",
        "print(mylist)\n",
        "print(mylist.count(12))     # How many times is 12 in mylist?\n",
        "\n",
        "print(mylist.index(3))      # Find index of first 3 in mylist\n",
        "print(mylist.count(5))\n",
        "\n",
        "mylist.reverse()\n",
        "print(mylist)\n",
        "\n",
        "mylist.sort()\n",
        "print(mylist)\n",
        "\n",
        "mylist.remove(5)            # Removes the first 12 in the list\n",
        "print(mylist)\n",
        "\n",
        "lastitem = mylist.pop()     # Removes and returns the last item of the list\n",
        "print(lastitem)\n",
        "print(mylist)"
      ],
      "metadata": {
        "colab": {
          "base_uri": "https://localhost:8080/"
        },
        "id": "izPG_rMHiZeQ",
        "outputId": "cd1b8ee8-b98e-4604-91ef-05f81f966e53"
      },
      "execution_count": 3,
      "outputs": [
        {
          "output_type": "stream",
          "name": "stdout",
          "text": [
            "[5, 27, 3, 12]\n",
            "[5, 12, 27, 3, 12]\n",
            "2\n",
            "3\n",
            "1\n",
            "[12, 3, 27, 12, 5]\n",
            "[3, 5, 12, 12, 27]\n",
            "[3, 12, 12, 27]\n",
            "27\n",
            "[3, 12, 12]\n"
          ]
        }
      ]
    },
    {
      "cell_type": "markdown",
      "source": [
        "**4.1 Dictionaries**\n",
        "\n",
        "**4.1 Sözlükler**"
      ],
      "metadata": {
        "id": "ZWe-LqVbGGE2"
      }
    },
    {
      "cell_type": "code",
      "source": [
        "telefon_rehberi = {\n",
        "    \"Ahmet\": \"555-1234\",\n",
        "    \"Mehmet\": \"555-5678\",\n",
        "    \"Ayşe\": \"555-9876\"\n",
        "}\n",
        "\n",
        "print(telefon_rehberi[\"Ahmet\"])\n"
      ],
      "metadata": {
        "colab": {
          "base_uri": "https://localhost:8080/"
        },
        "id": "lIzJcC2BiahL",
        "outputId": "7fecd24e-6dd8-4429-f70a-e7ef4c84f7e9"
      },
      "execution_count": 1,
      "outputs": [
        {
          "output_type": "stream",
          "name": "stdout",
          "text": [
            "555-1234\n"
          ]
        }
      ]
    },
    {
      "cell_type": "code",
      "source": [],
      "metadata": {
        "id": "gM8wr-PnvP1w"
      },
      "execution_count": null,
      "outputs": []
    }
  ]
}