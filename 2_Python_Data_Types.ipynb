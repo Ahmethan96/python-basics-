{
  "nbformat": 4,
  "nbformat_minor": 0,
  "metadata": {
    "colab": {
      "provenance": [],
      "authorship_tag": "ABX9TyMTPbwKF03L6LIPky6kJZFk",
      "include_colab_link": true
    },
    "kernelspec": {
      "name": "python3",
      "display_name": "Python 3"
    },
    "language_info": {
      "name": "python"
    }
  },
  "cells": [
    {
      "cell_type": "markdown",
      "metadata": {
        "id": "view-in-github",
        "colab_type": "text"
      },
      "source": [
        "<a href=\"https://colab.research.google.com/github/Ahmethan96/python-tutorial/blob/main/2_Python_Data_Types.ipynb\" target=\"_parent\"><img src=\"https://colab.research.google.com/assets/colab-badge.svg\" alt=\"Open In Colab\"/></a>"
      ]
    },
    {
      "cell_type": "markdown",
      "source": [
        "### **2. Python Data Types** ###\n",
        "### **2. Python Veri Türleri** ###"
      ],
      "metadata": {
        "id": "Yb2QdCxSTkXJ"
      }
    },
    {
      "cell_type": "markdown",
      "source": [
        "**2.1.1 Values and Data Types**\n",
        "\n",
        "**2.1.1 Değerler ve Veri Türleri**\n"
      ],
      "metadata": {
        "id": "ItItHKj8UBWA"
      }
    },
    {
      "cell_type": "code",
      "source": [
        "print(type(\"Hello, World!\"))\n",
        "print(type(17))\n",
        "print(\"Hello, World\")"
      ],
      "metadata": {
        "colab": {
          "base_uri": "https://localhost:8080/"
        },
        "id": "j0RnKws9UZIL",
        "outputId": "c0a8d939-d5ed-4031-f0d7-41277d4c4fb5"
      },
      "execution_count": 1,
      "outputs": [
        {
          "output_type": "stream",
          "name": "stdout",
          "text": [
            "<class 'str'>\n",
            "<class 'int'>\n",
            "Hello, World\n"
          ]
        }
      ]
    },
    {
      "cell_type": "code",
      "source": [
        "print(type(3.2))"
      ],
      "metadata": {
        "colab": {
          "base_uri": "https://localhost:8080/"
        },
        "id": "BnupMWwXW9DA",
        "outputId": "5063153b-9d18-4de3-f947-b43e8fe0284e"
      },
      "execution_count": 7,
      "outputs": [
        {
          "output_type": "stream",
          "name": "stdout",
          "text": [
            "<class 'float'>\n"
          ]
        }
      ]
    },
    {
      "cell_type": "markdown",
      "source": [
        "**2.1.2 Type Conversion Functions**\n",
        "\n",
        "**2.1.2 Tip Dönüştürme**"
      ],
      "metadata": {
        "id": "kW2JtMTGXA5K"
      }
    },
    {
      "cell_type": "code",
      "source": [
        "print(3.14, int(3.14))\n",
        "print(3.9999, int(3.9999))       # This doesn't round to the closest int!\n",
        "print(3.0, int(3.0))\n",
        "print(-3.999, int(-3.999))        # Note that the result is closer to zero\n",
        "\n",
        "#print(int(\"23bottles\"))"
      ],
      "metadata": {
        "colab": {
          "base_uri": "https://localhost:8080/"
        },
        "id": "Iia45foiU3p8",
        "outputId": "f3b755f3-679a-483a-8e8c-39f5c293dffb"
      },
      "execution_count": 5,
      "outputs": [
        {
          "output_type": "stream",
          "name": "stdout",
          "text": [
            "3.14 3\n",
            "3.9999 3\n",
            "3.0 3\n",
            "-3.999 -3\n"
          ]
        }
      ]
    },
    {
      "cell_type": "markdown",
      "source": [
        "**2.1.3 Variables**\n",
        "\n",
        "**2.1.3 Değişkenler**"
      ],
      "metadata": {
        "id": "wMmdT_12beOT"
      }
    },
    {
      "cell_type": "code",
      "source": [
        "message = \"What's up, Doc?\"\n",
        "n = 17\n",
        "pi = 3.14159\n",
        "\n",
        "print(message)\n",
        "print(n)\n",
        "print(pi)"
      ],
      "metadata": {
        "colab": {
          "base_uri": "https://localhost:8080/"
        },
        "id": "QaBi756DVmTx",
        "outputId": "47571393-bb8c-402c-d0c4-2c28c2170f3d"
      },
      "execution_count": 8,
      "outputs": [
        {
          "output_type": "stream",
          "name": "stdout",
          "text": [
            "What's up, Doc?\n",
            "17\n",
            "3.14159\n"
          ]
        }
      ]
    },
    {
      "cell_type": "code",
      "source": [
        "76trombones = \"big parade\"\n",
        "more$ = 1000000\n",
        "class = \"Computer Science 101"
      ],
      "metadata": {
        "colab": {
          "base_uri": "https://localhost:8080/",
          "height": 134
        },
        "id": "PJ96UA_AdAY3",
        "outputId": "cb2e5529-424d-447a-98e2-79c0621b2b75"
      },
      "execution_count": 10,
      "outputs": [
        {
          "output_type": "error",
          "ename": "SyntaxError",
          "evalue": "ignored",
          "traceback": [
            "\u001b[0;36m  File \u001b[0;32m\"<ipython-input-10-720eb77662c7>\"\u001b[0;36m, line \u001b[0;32m1\u001b[0m\n\u001b[0;31m    76trombones = \"big parade\"\u001b[0m\n\u001b[0m     ^\u001b[0m\n\u001b[0;31mSyntaxError\u001b[0m\u001b[0;31m:\u001b[0m invalid decimal literal\n"
          ]
        }
      ]
    },
    {
      "cell_type": "markdown",
      "source": [
        "**2.2.1 Statements and Expressions**\n",
        "\n",
        "**2.2.1 İfadeler ve Tabirler**"
      ],
      "metadata": {
        "id": "L-Wldkcwhm94"
      }
    },
    {
      "cell_type": "code",
      "source": [
        "print(1 + 1) # Statment/İfade\n",
        "print(len(\"hello\"))"
      ],
      "metadata": {
        "colab": {
          "base_uri": "https://localhost:8080/"
        },
        "id": "K7NbxY6ndQzu",
        "outputId": "a9feda8d-9476-4992-fc40-202144e2a99b"
      },
      "execution_count": 11,
      "outputs": [
        {
          "output_type": "stream",
          "name": "stdout",
          "text": [
            "2\n",
            "5\n"
          ]
        }
      ]
    },
    {
      "cell_type": "code",
      "source": [
        "y = 3.14 # Expression/Tabir\n",
        "x = len(\"hello\")\n",
        "print(x)\n",
        "print(y)"
      ],
      "metadata": {
        "colab": {
          "base_uri": "https://localhost:8080/"
        },
        "id": "WZubU7KqjHsh",
        "outputId": "f2b69a52-eb61-4cb0-b2bf-ea822f9fa8aa"
      },
      "execution_count": 12,
      "outputs": [
        {
          "output_type": "stream",
          "name": "stdout",
          "text": [
            "5\n",
            "3.14\n"
          ]
        }
      ]
    },
    {
      "cell_type": "markdown",
      "source": [
        "**2.2.2 Operators**\n",
        "\n",
        "**2.2.2 Operatörler**"
      ],
      "metadata": {
        "id": "QWbZtH6YlB1A"
      }
    },
    {
      "cell_type": "code",
      "source": [
        "print(2 + 3)\n",
        "print(2 - 3)\n",
        "print(2 * 3)\n",
        "print(2 ** 3)\n",
        "print(3 ** 2)\n"
      ],
      "metadata": {
        "colab": {
          "base_uri": "https://localhost:8080/"
        },
        "id": "aGnkZ1VXjWd6",
        "outputId": "d534ac73-2e05-4e73-b5d7-499445cc1625"
      },
      "execution_count": 13,
      "outputs": [
        {
          "output_type": "stream",
          "name": "stdout",
          "text": [
            "5\n",
            "-1\n",
            "6\n",
            "8\n",
            "9\n"
          ]
        }
      ]
    },
    {
      "cell_type": "markdown",
      "source": [
        "645 dakikayı saat cinsine çevirmek isterseniz, Python 3'te bölme işlemi / operatörü kullanılır ve sonuç her zaman ondalık bir sayıdır.\n",
        "\n",
        "İşte dönüşümü gerçekleştirmek için kullanabileceğiniz örnek kod:"
      ],
      "metadata": {
        "id": "5KERSVGul0wa"
      }
    },
    {
      "cell_type": "code",
      "source": [
        "minutes = 645\n",
        "hours = minutes / 60\n",
        "print(hours)"
      ],
      "metadata": {
        "colab": {
          "base_uri": "https://localhost:8080/"
        },
        "id": "hsAXoq_5l2QN",
        "outputId": "6538edab-8aea-4890-a3fa-c9a826f1e7ba"
      },
      "execution_count": 14,
      "outputs": [
        {
          "output_type": "stream",
          "name": "stdout",
          "text": [
            "10.75\n"
          ]
        }
      ]
    },
    {
      "cell_type": "code",
      "source": [],
      "metadata": {
        "id": "qzfy9v8fljH4"
      },
      "execution_count": null,
      "outputs": []
    }
  ]
}